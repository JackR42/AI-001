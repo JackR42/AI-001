{
  "nbformat": 4,
  "nbformat_minor": 0,
  "metadata": {
    "colab": {
      "provenance": [],
      "authorship_tag": "ABX9TyM9bCyezQ9p05uqbRT3sxak",
      "include_colab_link": true
    },
    "kernelspec": {
      "name": "python3",
      "display_name": "Python 3"
    },
    "language_info": {
      "name": "python"
    }
  },
  "cells": [
    {
      "cell_type": "markdown",
      "metadata": {
        "id": "view-in-github",
        "colab_type": "text"
      },
      "source": [
        "<a href=\"https://colab.research.google.com/github/JackR42/AI-001/blob/main/NeuralNetwork.ipynb\" target=\"_parent\"><img src=\"https://colab.research.google.com/assets/colab-badge.svg\" alt=\"Open In Colab\"/></a>"
      ]
    },
    {
      "cell_type": "code",
      "execution_count": 10,
      "metadata": {
        "colab": {
          "base_uri": "https://localhost:8080/",
          "height": 287
        },
        "id": "Fe0H0K0QEx7_",
        "outputId": "ba22794a-b716-4b41-ee32-28c942419a7f"
      },
      "outputs": [
        {
          "output_type": "execute_result",
          "data": {
            "text/plain": [
              "<matplotlib.image.AxesImage at 0x7f460c813d90>"
            ]
          },
          "metadata": {},
          "execution_count": 10
        },
        {
          "output_type": "display_data",
          "data": {
            "text/plain": [
              "<Figure size 432x288 with 1 Axes>"
            ],
            "image/png": "[encoded data removed]"
          },
          "metadata": {
            "needs_background": "light"
          }
        }
      ],
      "source": [
        "# Neural Network implement with Python without framework libraries\n",
        "# Implemented as iPython Jupyter Notebook in Github at: https://github.com/JackR42/AI-001/blob/main/NeuralNetwork.ipynb\n",
        "# Integrated with Google Drive, deployed to Google Colab at: https://colab.research.google.com\n",
        "\n",
        "import numpy as np\n",
        "import matplotlib.pyplot\n",
        "# Draw charts inline, inside the same Window, do not open a different \n",
        "%matplotlib inline  \n",
        "\n",
        "#make 1-based instead of 0-based\n",
        "arr = np.zeros([2,3])\n",
        "arr[1-1,3-1] = 12\n",
        "arr[1,1] = 42\n",
        "matplotlib.pyplot.imshow(arr, interpolation=\"nearest\")\n"
      ]
    },
    {
      "cell_type": "markdown",
      "source": [],
      "metadata": {
        "id": "pRSHYuXsF_rY"
      }
    },
    {
      "cell_type": "code",
      "source": [],
      "metadata": {
        "id": "vXE00pcbGAOL"
      },
      "execution_count": null,
      "outputs": []
    }
  ]
}