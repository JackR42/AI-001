{
  "cells": [
    {
      "cell_type": "markdown",
      "metadata": {
        "id": "view-in-github",
        "colab_type": "text"
      },
      "source": [
        "<a href=\"https://colab.research.google.com/github/JackR42/AI-001/blob/main/MNIST_DL_Train.ipynb\" target=\"_parent\"><img src=\"https://colab.research.google.com/assets/colab-badge.svg\" alt=\"Open In Colab\"/></a>"
      ]
    },
    {
      "cell_type": "code",
      "execution_count": 1,
      "metadata": {
        "id": "BSmylty9E2gB"
      },
      "outputs": [],
      "source": [
        "import keras\n",
        "import tensorflow as tf\n",
        "import pandas as pd\n",
        "import numpy as np\n",
        "import matplotlib.pyplot as plt\n",
        "%matplotlib inline"
      ]
    },
    {
      "cell_type": "code",
      "execution_count": 27,
      "metadata": {
        "id": "I8dlbzG0E2gD",
        "outputId": "54ccaa84-fc39-4a07-dfaf-7e887b47fcb8",
        "colab": {
          "base_uri": "https://localhost:8080/"
        }
      },
      "outputs": [
        {
          "output_type": "stream",
          "name": "stdout",
          "text": [
            "--2022-11-08 22:02:18--  https://raw.githubusercontent.com/Rylu12/MNIST_Computer_Vision/master/mnist.npz\n",
            "Resolving raw.githubusercontent.com (raw.githubusercontent.com)... 185.199.108.133, 185.199.109.133, 185.199.110.133, ...\n",
            "Connecting to raw.githubusercontent.com (raw.githubusercontent.com)|185.199.108.133|:443... connected.\n",
            "HTTP request sent, awaiting response... 200 OK\n",
            "Length: 11490434 (11M) [application/octet-stream]\n",
            "Saving to: ‘mnist.npz’\n",
            "\n",
            "\rmnist.npz             0%[                    ]       0  --.-KB/s               \rmnist.npz           100%[===================>]  10.96M  --.-KB/s    in 0.07s   \n",
            "\n",
            "2022-11-08 22:02:18 (166 MB/s) - ‘mnist.npz’ saved [11490434/11490434]\n",
            "\n"
          ]
        }
      ],
      "source": [
        "# We can load the MNIST dataset directly using .npz file\n",
        "!wget 'https://raw.githubusercontent.com/Rylu12/MNIST_Computer_Vision/master/mnist.npz' -O mnist.npz\n",
        "data = np.load('/content/mnist.npz', allow_pickle=True)\n",
        "data_list = data.files"
      ]
    },
    {
      "cell_type": "code",
      "execution_count": 28,
      "metadata": {
        "id": "NxotAbPBE2gE"
      },
      "outputs": [],
      "source": [
        "# Now we can separate the dataframe into individual variables\n",
        "# No data cleaning needed\n",
        "\n",
        "x_train = data['x_train']\n",
        "x_test = data['x_test']\n",
        "y_train = data['y_train']\n",
        "y_test = data['y_test']"
      ]
    },
    {
      "cell_type": "code",
      "execution_count": 29,
      "metadata": {
        "id": "VlmwdgpeE2gE",
        "outputId": "7833674f-ffdb-4f29-90d0-7218efa0db6b",
        "colab": {
          "base_uri": "https://localhost:8080/"
        }
      },
      "outputs": [
        {
          "output_type": "execute_result",
          "data": {
            "text/plain": [
              "(60000, 28, 28)"
            ]
          },
          "metadata": {},
          "execution_count": 29
        }
      ],
      "source": [
        "#Check to make sure if shape is correct, should be (60000, 28, 28)\n",
        "x_train.shape"
      ]
    },
    {
      "cell_type": "code",
      "execution_count": 30,
      "metadata": {
        "id": "yXfOkGiEE2gE",
        "outputId": "6515e85e-488b-4c3d-9301-6117d7c56bec",
        "colab": {
          "base_uri": "https://localhost:8080/"
        }
      },
      "outputs": [
        {
          "output_type": "execute_result",
          "data": {
            "text/plain": [
              "(28, 28)"
            ]
          },
          "metadata": {},
          "execution_count": 30
        }
      ],
      "source": [
        "x_train[0].shape"
      ]
    },
    {
      "cell_type": "code",
      "execution_count": 31,
      "metadata": {
        "id": "4CV3X22dE2gF",
        "outputId": "bb72a29f-26a0-4718-ffba-9a9e18fb6202",
        "colab": {
          "base_uri": "https://localhost:8080/",
          "height": 282
        }
      },
      "outputs": [
        {
          "output_type": "execute_result",
          "data": {
            "text/plain": [
              "<matplotlib.image.AxesImage at 0x7ff247974bd0>"
            ]
          },
          "metadata": {},
          "execution_count": 31
        },
        {
          "output_type": "display_data",
          "data": {
            "text/plain": [
              "<Figure size 432x288 with 1 Axes>"
            ],
            "image/png": "[encoded data removed]"
          },
          "metadata": {
            "needs_background": "light"
          }
        }
      ],
      "source": [
        "plt.imshow(x_train[0], cmap = 'gray')"
      ]
    },
    {
      "cell_type": "code",
      "execution_count": 32,
      "metadata": {
        "id": "bB3mUmJFE2gF"
      },
      "outputs": [],
      "source": [
        "#Now need to split 10% of the train dataset to use as validation dataset\n",
        "from sklearn.model_selection import train_test_split\n",
        "\n",
        "#Using the train_test_split library to split into train and validation\n",
        "\n",
        "x_train, x_validation, y_train, y_validation = train_test_split(x_train, y_train, test_size = 0.1, random_state = 42)"
      ]
    },
    {
      "cell_type": "code",
      "execution_count": 33,
      "metadata": {
        "id": "H-xeB0SuE2gG",
        "outputId": "4396c63c-a8cb-4170-b7f5-e8cf1a5b25da",
        "colab": {
          "base_uri": "https://localhost:8080/"
        }
      },
      "outputs": [
        {
          "output_type": "execute_result",
          "data": {
            "text/plain": [
              "(54000, 28, 28)"
            ]
          },
          "metadata": {},
          "execution_count": 33
        }
      ],
      "source": [
        "x_train.shape"
      ]
    },
    {
      "cell_type": "code",
      "execution_count": 34,
      "metadata": {
        "id": "vAZ-rV_mE2gG",
        "outputId": "e28390d2-db13-4b36-edbc-70723b0bd4d6",
        "colab": {
          "base_uri": "https://localhost:8080/"
        }
      },
      "outputs": [
        {
          "output_type": "execute_result",
          "data": {
            "text/plain": [
              "(6000, 28, 28)"
            ]
          },
          "metadata": {},
          "execution_count": 34
        }
      ],
      "source": [
        "x_validation.shape"
      ]
    },
    {
      "cell_type": "markdown",
      "metadata": {
        "id": "FAK06SqlE2gG"
      },
      "source": [
        "## Now need to convert y_data into categorical type"
      ]
    },
    {
      "cell_type": "code",
      "execution_count": 35,
      "metadata": {
        "id": "HdgG1876E2gH"
      },
      "outputs": [],
      "source": [
        "#Need to do one-hot encode into individual categories for training purposes"
      ]
    },
    {
      "cell_type": "code",
      "execution_count": 36,
      "metadata": {
        "id": "x3xY523bE2gI"
      },
      "outputs": [],
      "source": [
        "from keras.utils.np_utils import to_categorical"
      ]
    },
    {
      "cell_type": "code",
      "execution_count": 37,
      "metadata": {
        "id": "fE5w1l_tE2gI"
      },
      "outputs": [],
      "source": [
        "# Can use keras to do one-hot encoding into dummy variables\n",
        "# Using to_categorical() method\n",
        "# Can also use pandas dummy variable method if working with dataframes"
      ]
    },
    {
      "cell_type": "code",
      "execution_count": 38,
      "metadata": {
        "id": "K4zs2j2GE2gI"
      },
      "outputs": [],
      "source": [
        "# Create into 10 categories\n",
        "y_train_categ = to_categorical(y_train, 10)\n",
        "y_test_categ = to_categorical(y_test, 10)\n",
        "y_validation_categ = to_categorical(y_validation, 10)"
      ]
    },
    {
      "cell_type": "code",
      "execution_count": 39,
      "metadata": {
        "id": "vuJyvOSIE2gJ",
        "outputId": "f551f6ff-dd75-4849-d747-25f745e17964",
        "colab": {
          "base_uri": "https://localhost:8080/"
        }
      },
      "outputs": [
        {
          "output_type": "execute_result",
          "data": {
            "text/plain": [
              "array([[0., 1., 0., ..., 0., 0., 0.],\n",
              "       [0., 0., 0., ..., 0., 0., 0.],\n",
              "       [0., 0., 0., ..., 0., 0., 0.],\n",
              "       ...,\n",
              "       [1., 0., 0., ..., 0., 0., 0.],\n",
              "       [1., 0., 0., ..., 0., 0., 0.],\n",
              "       [0., 0., 0., ..., 0., 0., 0.]], dtype=float32)"
            ]
          },
          "metadata": {},
          "execution_count": 39
        }
      ],
      "source": [
        "# Check to make sure it worked\n",
        "y_train_categ"
      ]
    },
    {
      "cell_type": "markdown",
      "metadata": {
        "id": "g2stfl2tE2gJ"
      },
      "source": [
        "## Need to preprocess by doing feature scaling of data first"
      ]
    },
    {
      "cell_type": "code",
      "execution_count": 40,
      "metadata": {
        "id": "jONbF91xE2gJ"
      },
      "outputs": [],
      "source": [
        "#Scale data by dividing all values by 255\n",
        "#Data will be normalized and fit betw value of 0 and 1"
      ]
    },
    {
      "cell_type": "code",
      "execution_count": 41,
      "metadata": {
        "id": "RFP7MDscE2gJ"
      },
      "outputs": [],
      "source": [
        "x_train = x_train/x_train.max()\n",
        "x_test = x_test/x_test.max()\n",
        "x_validation = x_validation/x_validation.max()"
      ]
    },
    {
      "cell_type": "code",
      "execution_count": 42,
      "metadata": {
        "id": "6DsTcR6HE2gK"
      },
      "outputs": [],
      "source": [
        "# Need to reshape to show 4th dimension"
      ]
    },
    {
      "cell_type": "code",
      "execution_count": 43,
      "metadata": {
        "id": "Wa_4Lfw4E2gK"
      },
      "outputs": [],
      "source": [
        "# Since only one color and not RGB... just add the value \"1\" in 4th dimension\n",
        "x_train = x_train.reshape(x_train.shape[0], 28, 28, 1)\n",
        "x_test = x_test.reshape(x_test.shape[0], 28, 28, 1)\n",
        "x_validation = x_validation.reshape(x_validation.shape[0], 28, 28, 1)"
      ]
    },
    {
      "cell_type": "code",
      "execution_count": 44,
      "metadata": {
        "id": "VCICxgX0E2gL",
        "outputId": "3a007114-62a8-4f26-906b-3b3fe2aed1ae",
        "colab": {
          "base_uri": "https://localhost:8080/"
        }
      },
      "outputs": [
        {
          "output_type": "execute_result",
          "data": {
            "text/plain": [
              "(54000, 28, 28, 1)"
            ]
          },
          "metadata": {},
          "execution_count": 44
        }
      ],
      "source": [
        "# Check to see if reshape worked\n",
        "x_train.shape"
      ]
    },
    {
      "cell_type": "markdown",
      "metadata": {
        "id": "kuS9MdbqE2gM"
      },
      "source": [
        "## Now time to train with Keras using CNN"
      ]
    },
    {
      "cell_type": "code",
      "execution_count": 45,
      "metadata": {
        "id": "2G4aWHcSE2gN"
      },
      "outputs": [],
      "source": [
        "#Images are best trained using Convolutional Neural Networks\n",
        "from keras.models import Sequential\n",
        "from keras.layers import Dense, Conv2D, MaxPool2D, Flatten"
      ]
    },
    {
      "cell_type": "code",
      "execution_count": 46,
      "metadata": {
        "id": "7qej_-AVE2gN"
      },
      "outputs": [],
      "source": [
        "model = Sequential()\n",
        "\n",
        "#Convlutional Layer\n",
        "c_layer = Conv2D(filters =32, kernel_size = (4,4), input_shape = (28, 28, 1), activation = 'relu')\n",
        "\n",
        "#Pooling Layer\n",
        "p_layer = MaxPool2D(pool_size = (2,2))\n",
        "\n",
        "#Flatten Layer (2D --> 1D)\n",
        "f_layer = Flatten()\n",
        "\n",
        "#Dense Layer (hidden layers)\n",
        "d_layer1 = Dense(128, activation = 'relu')\n",
        "\n",
        "#Use softmax activation function to output probability value betw 0-1\n",
        "d_layer2 = Dense(10, activation = 'softmax')\n",
        "\n",
        "model.add(c_layer)\n",
        "model.add(p_layer)\n",
        "model.add(f_layer)\n",
        "model.add(d_layer1)\n",
        "model.add(d_layer2)"
      ]
    },
    {
      "cell_type": "code",
      "execution_count": 47,
      "metadata": {
        "id": "PSrG9PClE2gO"
      },
      "outputs": [],
      "source": [
        "# Need to minimize \"loss\" function and not \"cost\" function, so use categorical_crossentropy since y_data already one-hot encoded\n",
        "# Use \"adaptive moment estimation\" (adam) gradient descent optimizer\n",
        "model.compile( optimizer = 'adam', loss='categorical_crossentropy', metrics =['accuracy'])"
      ]
    },
    {
      "cell_type": "code",
      "execution_count": 48,
      "metadata": {
        "id": "tC_55oZgE2gO",
        "outputId": "e228e04d-3a3a-43b9-dc31-8d2bd8b2f32f",
        "colab": {
          "base_uri": "https://localhost:8080/"
        }
      },
      "outputs": [
        {
          "output_type": "stream",
          "name": "stdout",
          "text": [
            "Model: \"sequential\"\n",
            "_________________________________________________________________\n",
            " Layer (type)                Output Shape              Param #   \n",
            "=================================================================\n",
            " conv2d (Conv2D)             (None, 25, 25, 32)        544       \n",
            "                                                                 \n",
            " max_pooling2d (MaxPooling2D  (None, 12, 12, 32)       0         \n",
            " )                                                               \n",
            "                                                                 \n",
            " flatten (Flatten)           (None, 4608)              0         \n",
            "                                                                 \n",
            " dense (Dense)               (None, 128)               589952    \n",
            "                                                                 \n",
            " dense_1 (Dense)             (None, 10)                1290      \n",
            "                                                                 \n",
            "=================================================================\n",
            "Total params: 591,786\n",
            "Trainable params: 591,786\n",
            "Non-trainable params: 0\n",
            "_________________________________________________________________\n"
          ]
        }
      ],
      "source": [
        "model.summary()"
      ]
    },
    {
      "cell_type": "code",
      "execution_count": 49,
      "metadata": {
        "id": "tzwV8WB-E2gO",
        "outputId": "46349a86-47f5-4b64-cb30-d16d5a75cfcf",
        "colab": {
          "base_uri": "https://localhost:8080/"
        }
      },
      "outputs": [
        {
          "output_type": "stream",
          "name": "stdout",
          "text": [
            "Epoch 1/10\n",
            "422/422 - 25s - loss: 0.2282 - accuracy: 0.9351 - val_loss: 0.0920 - val_accuracy: 0.9733 - 25s/epoch - 58ms/step\n",
            "Epoch 2/10\n",
            "422/422 - 22s - loss: 0.0701 - accuracy: 0.9788 - val_loss: 0.0587 - val_accuracy: 0.9828 - 22s/epoch - 53ms/step\n",
            "Epoch 3/10\n",
            "422/422 - 23s - loss: 0.0462 - accuracy: 0.9866 - val_loss: 0.0485 - val_accuracy: 0.9858 - 23s/epoch - 56ms/step\n",
            "Epoch 4/10\n",
            "422/422 - 23s - loss: 0.0350 - accuracy: 0.9894 - val_loss: 0.0464 - val_accuracy: 0.9855 - 23s/epoch - 56ms/step\n",
            "Epoch 5/10\n",
            "422/422 - 23s - loss: 0.0260 - accuracy: 0.9922 - val_loss: 0.0419 - val_accuracy: 0.9880 - 23s/epoch - 56ms/step\n",
            "Epoch 6/10\n",
            "422/422 - 22s - loss: 0.0205 - accuracy: 0.9939 - val_loss: 0.0493 - val_accuracy: 0.9853 - 22s/epoch - 53ms/step\n",
            "Epoch 7/10\n",
            "422/422 - 23s - loss: 0.0150 - accuracy: 0.9955 - val_loss: 0.0403 - val_accuracy: 0.9887 - 23s/epoch - 56ms/step\n",
            "Epoch 8/10\n",
            "422/422 - 22s - loss: 0.0116 - accuracy: 0.9967 - val_loss: 0.0406 - val_accuracy: 0.9908 - 22s/epoch - 53ms/step\n",
            "Epoch 9/10\n",
            "422/422 - 23s - loss: 0.0091 - accuracy: 0.9975 - val_loss: 0.0422 - val_accuracy: 0.9898 - 23s/epoch - 56ms/step\n"
          ]
        },
        {
          "output_type": "execute_result",
          "data": {
            "text/plain": [
              "<keras.callbacks.History at 0x7ff242562c10>"
            ]
          },
          "metadata": {},
          "execution_count": 49
        }
      ],
      "source": [
        "#Now time to train model using both train and validation datasets\n",
        "\n",
        "#Set a stopper if validation_loss starts to increase again, to prevent overtraining\n",
        "early_stopping = tf.keras.callbacks.EarlyStopping(patience =2)\n",
        "\n",
        "model.fit(x_train, y_train_categ, epochs = 10, batch_size = 128, validation_data = (x_validation, y_validation_categ), callbacks =[early_stopping], verbose = 2)"
      ]
    },
    {
      "cell_type": "code",
      "execution_count": 50,
      "metadata": {
        "id": "-2ekWyPpE2gO",
        "outputId": "9e6218dc-41ea-4ae6-e219-f4c86855de69",
        "colab": {
          "base_uri": "https://localhost:8080/"
        }
      },
      "outputs": [
        {
          "output_type": "execute_result",
          "data": {
            "text/plain": [
              "['loss', 'accuracy']"
            ]
          },
          "metadata": {},
          "execution_count": 50
        }
      ],
      "source": [
        "model.metrics_names"
      ]
    },
    {
      "cell_type": "code",
      "execution_count": 51,
      "metadata": {
        "id": "o6sd71GVE2gP",
        "outputId": "d92f6669-6a38-4a03-cb4d-0f526725624d",
        "colab": {
          "base_uri": "https://localhost:8080/"
        }
      },
      "outputs": [
        {
          "output_type": "stream",
          "name": "stdout",
          "text": [
            "313/313 [==============================] - 2s 6ms/step - loss: 0.0450 - accuracy: 0.9861\n"
          ]
        }
      ],
      "source": [
        "test_loss, test_accuracy = model.evaluate(x_test, y_test_categ)"
      ]
    },
    {
      "cell_type": "code",
      "execution_count": 52,
      "metadata": {
        "id": "hHBL9a3QE2gP",
        "outputId": "6f7f081c-0b72-44f3-af75-06a8a19bb421",
        "colab": {
          "base_uri": "https://localhost:8080/"
        }
      },
      "outputs": [
        {
          "output_type": "execute_result",
          "data": {
            "text/plain": [
              "0.9861000180244446"
            ]
          },
          "metadata": {},
          "execution_count": 52
        }
      ],
      "source": [
        "test_accuracy"
      ]
    },
    {
      "cell_type": "code",
      "execution_count": 53,
      "metadata": {
        "id": "r5h5G8dSE2gP",
        "outputId": "22d094c6-6c1f-440e-9d21-86e4879b6435",
        "colab": {
          "base_uri": "https://localhost:8080/"
        }
      },
      "outputs": [
        {
          "output_type": "execute_result",
          "data": {
            "text/plain": [
              "0.04498830437660217"
            ]
          },
          "metadata": {},
          "execution_count": 53
        }
      ],
      "source": [
        "test_loss"
      ]
    },
    {
      "cell_type": "markdown",
      "metadata": {
        "id": "8yFumEbhE2gP"
      },
      "source": [
        "## Let's save the model first"
      ]
    },
    {
      "cell_type": "code",
      "execution_count": 57,
      "metadata": {
        "id": "mJp61iYKE2gQ"
      },
      "outputs": [],
      "source": [
        "from keras.models import load_model\n",
        "\n",
        "#To save keras model\n",
        "model.save('mnist_DL_pretrained.h5')\n",
        "\n",
        "#To load keras model for forward propagation, uncomment line below\n",
        "model = load_model('mnist_DL_pretrained.h5')"
      ]
    },
    {
      "cell_type": "code",
      "execution_count": 54,
      "metadata": {
        "id": "IYP_-lIAE2gQ"
      },
      "outputs": [],
      "source": []
    },
    {
      "cell_type": "code",
      "execution_count": 58,
      "metadata": {
        "id": "XO6JUITvE2gQ"
      },
      "outputs": [],
      "source": [
        "#Can do predictions to check results using classification_report\n",
        "from sklearn.metrics import classification_report"
      ]
    },
    {
      "cell_type": "code",
      "execution_count": 61,
      "metadata": {
        "id": "RlnntxBSE2gQ",
        "outputId": "069a86b8-3277-4824-a171-d9e9e773c495",
        "colab": {
          "base_uri": "https://localhost:8080/"
        }
      },
      "outputs": [
        {
          "output_type": "stream",
          "name": "stdout",
          "text": [
            "313/313 [==============================] - 2s 6ms/step\n"
          ]
        }
      ],
      "source": [
        "#prediction = model.predict_classes(x_test) #depricated!\n",
        "predict_x = model.predict(x_test) \n",
        "classes_x = np.argmax(predict_x,axis=1)"
      ]
    },
    {
      "cell_type": "code",
      "execution_count": 62,
      "metadata": {
        "id": "4_HWRU46E2gQ",
        "outputId": "9aecede7-7246-4f43-fd34-7a9088a501f6",
        "colab": {
          "base_uri": "https://localhost:8080/"
        }
      },
      "outputs": [
        {
          "output_type": "execute_result",
          "data": {
            "text/plain": [
              "array([7, 2, 1, ..., 4, 5, 6])"
            ]
          },
          "metadata": {},
          "execution_count": 62
        }
      ],
      "source": [
        "predict_x\n",
        "classes_x"
      ]
    },
    {
      "cell_type": "code",
      "execution_count": null,
      "metadata": {
        "id": "gj0bp_2CE2gR"
      },
      "outputs": [],
      "source": [
        "#Prediction is not one-hot encoded, so need normal \"y_test\" data as comparison, not \"y_test_categ\" data\n",
        "#Get f1-score"
      ]
    },
    {
      "cell_type": "code",
      "execution_count": 64,
      "metadata": {
        "id": "TKb9KK0YE2gR",
        "outputId": "d7c1789a-368d-4ec7-f270-c2383e53f552",
        "colab": {
          "base_uri": "https://localhost:8080/"
        }
      },
      "outputs": [
        {
          "output_type": "stream",
          "name": "stdout",
          "text": [
            "              precision    recall  f1-score   support\n",
            "\n",
            "           0       0.98      0.99      0.99       980\n",
            "           1       0.99      1.00      0.99      1135\n",
            "           2       0.97      0.99      0.98      1032\n",
            "           3       0.99      0.98      0.99      1010\n",
            "           4       0.99      0.98      0.99       982\n",
            "           5       0.99      0.99      0.99       892\n",
            "           6       0.99      0.99      0.99       958\n",
            "           7       0.98      0.99      0.98      1028\n",
            "           8       1.00      0.97      0.98       974\n",
            "           9       0.99      0.98      0.98      1009\n",
            "\n",
            "    accuracy                           0.99     10000\n",
            "   macro avg       0.99      0.99      0.99     10000\n",
            "weighted avg       0.99      0.99      0.99     10000\n",
            "\n"
          ]
        }
      ],
      "source": [
        "print(classification_report(y_test, classes_x))\n",
        "#f1-score is 99% which is extremely good"
      ]
    },
    {
      "cell_type": "code",
      "execution_count": null,
      "metadata": {
        "id": "Rp0a9shRE2gR"
      },
      "outputs": [],
      "source": [
        "# The predict() method returns probability values and not classes (number results)"
      ]
    },
    {
      "cell_type": "code",
      "execution_count": 65,
      "metadata": {
        "id": "lUwbEZ04E2gR",
        "outputId": "ed1ee878-9fb7-49f8-8a5a-041a2d5ad343",
        "colab": {
          "base_uri": "https://localhost:8080/"
        }
      },
      "outputs": [
        {
          "output_type": "stream",
          "name": "stdout",
          "text": [
            "1/1 [==============================] - 0s 17ms/step\n"
          ]
        }
      ],
      "source": [
        "one_image = model.predict(x_test[1].reshape(1,28, 28, 1))"
      ]
    },
    {
      "cell_type": "code",
      "execution_count": 66,
      "metadata": {
        "id": "Zgsyzx0YE2gR",
        "outputId": "96ee3dfe-0973-40fc-c5c6-71e1aabd5de6",
        "colab": {
          "base_uri": "https://localhost:8080/"
        }
      },
      "outputs": [
        {
          "output_type": "execute_result",
          "data": {
            "text/plain": [
              "array([[1.7647288e-11, 3.6813717e-08, 1.0000000e+00, 3.7726095e-14,\n",
              "        2.2216012e-17, 1.6728204e-15, 4.4667151e-10, 9.2914932e-15,\n",
              "        3.6241531e-11, 5.5503422e-15]], dtype=float32)"
            ]
          },
          "metadata": {},
          "execution_count": 66
        }
      ],
      "source": [
        "one_image"
      ]
    },
    {
      "cell_type": "code",
      "execution_count": 67,
      "metadata": {
        "id": "jn2nBTuXE2gR"
      },
      "outputs": [],
      "source": [
        "table = pd.DataFrame()\n",
        "table['Numbers'] = np.arange(0,10)\n",
        "table['Prob %'] = one_image[0].round(2)*100"
      ]
    },
    {
      "cell_type": "code",
      "execution_count": 68,
      "metadata": {
        "id": "4bty32T9E2gS",
        "outputId": "10136f5f-d782-4672-ea92-c9ae30b7a902",
        "colab": {
          "base_uri": "https://localhost:8080/",
          "height": 363
        }
      },
      "outputs": [
        {
          "output_type": "execute_result",
          "data": {
            "text/plain": [
              "   Numbers  Prob %\n",
              "0        0     0.0\n",
              "1        1     0.0\n",
              "2        2   100.0\n",
              "3        3     0.0\n",
              "4        4     0.0\n",
              "5        5     0.0\n",
              "6        6     0.0\n",
              "7        7     0.0\n",
              "8        8     0.0\n",
              "9        9     0.0"
            ],
            "text/html": [
              "\n",
              "  <div id=\"df-e6fb7981-8271-4c53-9193-6bb1052739ab\">\n",
              "    <div class=\"colab-df-container\">\n",
              "      <div>\n",
              "<style scoped>\n",
              "    .dataframe tbody tr th:only-of-type {\n",
              "        vertical-align: middle;\n",
              "    }\n",
              "\n",
              "    .dataframe tbody tr th {\n",
              "        vertical-align: top;\n",
              "    }\n",
              "\n",
              "    .dataframe thead th {\n",
              "        text-align: right;\n",
              "    }\n",
              "</style>\n",
              "<table border=\"1\" class=\"dataframe\">\n",
              "  <thead>\n",
              "    <tr style=\"text-align: right;\">\n",
              "      <th></th>\n",
              "      <th>Numbers</th>\n",
              "      <th>Prob %</th>\n",
              "    </tr>\n",
              "  </thead>\n",
              "  <tbody>\n",
              "    <tr>\n",
              "      <th>0</th>\n",
              "      <td>0</td>\n",
              "      <td>0.0</td>\n",
              "    </tr>\n",
              "    <tr>\n",
              "      <th>1</th>\n",
              "      <td>1</td>\n",
              "      <td>0.0</td>\n",
              "    </tr>\n",
              "    <tr>\n",
              "      <th>2</th>\n",
              "      <td>2</td>\n",
              "      <td>100.0</td>\n",
              "    </tr>\n",
              "    <tr>\n",
              "      <th>3</th>\n",
              "      <td>3</td>\n",
              "      <td>0.0</td>\n",
              "    </tr>\n",
              "    <tr>\n",
              "      <th>4</th>\n",
              "      <td>4</td>\n",
              "      <td>0.0</td>\n",
              "    </tr>\n",
              "    <tr>\n",
              "      <th>5</th>\n",
              "      <td>5</td>\n",
              "      <td>0.0</td>\n",
              "    </tr>\n",
              "    <tr>\n",
              "      <th>6</th>\n",
              "      <td>6</td>\n",
              "      <td>0.0</td>\n",
              "    </tr>\n",
              "    <tr>\n",
              "      <th>7</th>\n",
              "      <td>7</td>\n",
              "      <td>0.0</td>\n",
              "    </tr>\n",
              "    <tr>\n",
              "      <th>8</th>\n",
              "      <td>8</td>\n",
              "      <td>0.0</td>\n",
              "    </tr>\n",
              "    <tr>\n",
              "      <th>9</th>\n",
              "      <td>9</td>\n",
              "      <td>0.0</td>\n",
              "    </tr>\n",
              "  </tbody>\n",
              "</table>\n",
              "</div>\n",
              "      <button class=\"colab-df-convert\" onclick=\"convertToInteractive('df-e6fb7981-8271-4c53-9193-6bb1052739ab')\"\n",
              "              title=\"Convert this dataframe to an interactive table.\"\n",
              "              style=\"display:none;\">\n",
              "        \n",
              "  <svg xmlns=\"http://www.w3.org/2000/svg\" height=\"24px\"viewBox=\"0 0 24 24\"\n",
              "       width=\"24px\">\n",
              "    <path d=\"M0 0h24v24H0V0z\" fill=\"none\"/>\n",
              "    <path d=\"M18.56 5.44l.94 2.06.94-2.06 2.06-.94-2.06-.94-.94-2.06-.94 2.06-2.06.94zm-11 1L8.5 8.5l.94-2.06 2.06-.94-2.06-.94L8.5 2.5l-.94 2.06-2.06.94zm10 10l.94 2.06.94-2.06 2.06-.94-2.06-.94-.94-2.06-.94 2.06-2.06.94z\"/><path d=\"M17.41 7.96l-1.37-1.37c-.4-.4-.92-.59-1.43-.59-.52 0-1.04.2-1.43.59L10.3 9.45l-7.72 7.72c-.78.78-.78 2.05 0 2.83L4 21.41c.39.39.9.59 1.41.59.51 0 1.02-.2 1.41-.59l7.78-7.78 2.81-2.81c.8-.78.8-2.07 0-2.86zM5.41 20L4 18.59l7.72-7.72 1.47 1.35L5.41 20z\"/>\n",
              "  </svg>\n",
              "      </button>\n",
              "      \n",
              "  <style>\n",
              "    .colab-df-container {\n",
              "      display:flex;\n",
              "      flex-wrap:wrap;\n",
              "      gap: 12px;\n",
              "    }\n",
              "\n",
              "    .colab-df-convert {\n",
              "      background-color: #E8F0FE;\n",
              "      border: none;\n",
              "      border-radius: 50%;\n",
              "      cursor: pointer;\n",
              "      display: none;\n",
              "      fill: #1967D2;\n",
              "      height: 32px;\n",
              "      padding: 0 0 0 0;\n",
              "      width: 32px;\n",
              "    }\n",
              "\n",
              "    .colab-df-convert:hover {\n",
              "      background-color: #E2EBFA;\n",
              "      box-shadow: 0px 1px 2px rgba(60, 64, 67, 0.3), 0px 1px 3px 1px rgba(60, 64, 67, 0.15);\n",
              "      fill: #174EA6;\n",
              "    }\n",
              "\n",
              "    [theme=dark] .colab-df-convert {\n",
              "      background-color: #3B4455;\n",
              "      fill: #D2E3FC;\n",
              "    }\n",
              "\n",
              "    [theme=dark] .colab-df-convert:hover {\n",
              "      background-color: #434B5C;\n",
              "      box-shadow: 0px 1px 3px 1px rgba(0, 0, 0, 0.15);\n",
              "      filter: drop-shadow(0px 1px 2px rgba(0, 0, 0, 0.3));\n",
              "      fill: #FFFFFF;\n",
              "    }\n",
              "  </style>\n",
              "\n",
              "      <script>\n",
              "        const buttonEl =\n",
              "          document.querySelector('#df-e6fb7981-8271-4c53-9193-6bb1052739ab button.colab-df-convert');\n",
              "        buttonEl.style.display =\n",
              "          google.colab.kernel.accessAllowed ? 'block' : 'none';\n",
              "\n",
              "        async function convertToInteractive(key) {\n",
              "          const element = document.querySelector('#df-e6fb7981-8271-4c53-9193-6bb1052739ab');\n",
              "          const dataTable =\n",
              "            await google.colab.kernel.invokeFunction('convertToInteractive',\n",
              "                                                     [key], {});\n",
              "          if (!dataTable) return;\n",
              "\n",
              "          const docLinkHtml = 'Like what you see? Visit the ' +\n",
              "            '<a target=\"_blank\" href=https://colab.research.google.com/notebooks/data_table.ipynb>data table notebook</a>'\n",
              "            + ' to learn more about interactive tables.';\n",
              "          element.innerHTML = '';\n",
              "          dataTable['output_type'] = 'display_data';\n",
              "          await google.colab.output.renderOutput(dataTable, element);\n",
              "          const docLink = document.createElement('div');\n",
              "          docLink.innerHTML = docLinkHtml;\n",
              "          element.appendChild(docLink);\n",
              "        }\n",
              "      </script>\n",
              "    </div>\n",
              "  </div>\n",
              "  "
            ]
          },
          "metadata": {},
          "execution_count": 68
        }
      ],
      "source": [
        "table"
      ]
    },
    {
      "cell_type": "code",
      "execution_count": 69,
      "metadata": {
        "id": "AaHJ588AE2gS",
        "outputId": "7741f16d-6a80-4b63-930e-b2505a6be40e",
        "colab": {
          "base_uri": "https://localhost:8080/",
          "height": 102
        }
      },
      "outputs": [
        {
          "output_type": "execute_result",
          "data": {
            "text/plain": [
              "<matplotlib.image.AxesImage at 0x7ff23fa52310>"
            ]
          },
          "metadata": {},
          "execution_count": 69
        },
        {
          "output_type": "display_data",
          "data": {
            "text/plain": [
              "<Figure size 432x288 with 1 Axes>"
            ],
            "image/png": "[encoded data removed]"
          },
          "metadata": {
            "needs_background": "light"
          }
        }
      ],
      "source": [
        "plt.imshow(one_image, cmap ='gray')"
      ]
    },
    {
      "cell_type": "code",
      "execution_count": 69,
      "metadata": {
        "id": "4rHdvxhyE2gS"
      },
      "outputs": [],
      "source": []
    },
    {
      "cell_type": "code",
      "execution_count": 69,
      "metadata": {
        "id": "KE38B2uiE2gS"
      },
      "outputs": [],
      "source": []
    },
    {
      "cell_type": "code",
      "execution_count": 69,
      "metadata": {
        "id": "gM5uoM_SE2gS"
      },
      "outputs": [],
      "source": []
    },
    {
      "cell_type": "code",
      "execution_count": 69,
      "metadata": {
        "id": "7To3DkknE2gS"
      },
      "outputs": [],
      "source": []
    },
    {
      "cell_type": "code",
      "execution_count": 69,
      "metadata": {
        "id": "p2alAL-dE2gS"
      },
      "outputs": [],
      "source": []
    },
    {
      "cell_type": "code",
      "execution_count": 69,
      "metadata": {
        "id": "6JFzB0xYE2gT"
      },
      "outputs": [],
      "source": []
    }
  ],
  "metadata": {
    "kernelspec": {
      "display_name": "Python 3",
      "language": "python",
      "name": "python3"
    },
    "language_info": {
      "codemirror_mode": {
        "name": "ipython",
        "version": 3
      },
      "file_extension": ".py",
      "mimetype": "text/x-python",
      "name": "python",
      "nbconvert_exporter": "python",
      "pygments_lexer": "ipython3",
      "version": "3.7.4"
    },
    "colab": {
      "provenance": [],
      "include_colab_link": true
    }
  },
  "nbformat": 4,
  "nbformat_minor": 0
}